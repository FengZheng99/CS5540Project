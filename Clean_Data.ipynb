{
 "cells": [
  {
   "cell_type": "code",
   "execution_count": 1,
   "id": "0feed9e4",
   "metadata": {},
   "outputs": [
    {
     "name": "stdout",
     "output_type": "stream",
     "text": [
      "Requirement already satisfied: pyspark in /Users/fengzheng/Desktop/Coding/Practice/venv/lib/python3.9/site-packages (3.3.2)\n",
      "Requirement already satisfied: py4j==0.10.9.5 in /Users/fengzheng/Desktop/Coding/Practice/venv/lib/python3.9/site-packages (from pyspark) (0.10.9.5)\n"
     ]
    }
   ],
   "source": [
    "# install spark\n",
    "!pip install pyspark"
   ]
  },
  {
   "cell_type": "code",
   "execution_count": 2,
   "id": "6ca38a8d",
   "metadata": {},
   "outputs": [
    {
     "name": "stderr",
     "output_type": "stream",
     "text": [
      "Setting default log level to \"WARN\".\n",
      "To adjust logging level use sc.setLogLevel(newLevel). For SparkR, use setLogLevel(newLevel).\n"
     ]
    },
    {
     "name": "stdout",
     "output_type": "stream",
     "text": [
      "23/04/05 17:17:43 WARN NativeCodeLoader: Unable to load native-hadoop library for your platform... using builtin-java classes where applicable\n"
     ]
    }
   ],
   "source": [
    "# create spark session\n",
    "from pyspark.sql import SparkSession\n",
    "spark = SparkSession.builder.master('local[*]').getOrCreate()"
   ]
  },
  {
   "cell_type": "code",
   "execution_count": 3,
   "id": "3eb324ea",
   "metadata": {},
   "outputs": [
    {
     "name": "stdout",
     "output_type": "stream",
     "text": [
      "root\n",
      " |-- Date: date (nullable = true)\n",
      " |-- Airline: string (nullable = true)\n",
      " |-- Origin: string (nullable = true)\n",
      " |-- Dest: string (nullable = true)\n",
      " |-- Cancelled: string (nullable = true)\n",
      " |-- OriginStateName: string (nullable = true)\n",
      " |-- DestStateName: string (nullable = true)\n",
      "\n"
     ]
    },
    {
     "name": "stderr",
     "output_type": "stream",
     "text": [
      "[Stage 1:======================================================>  (59 + 3) / 62]\r"
     ]
    },
    {
     "name": "stdout",
     "output_type": "stream",
     "text": [
      "+----------+--------------------+------+----+---------+---------------+-------------+\n",
      "|      Date|             Airline|Origin|Dest|Cancelled|OriginStateName|DestStateName|\n",
      "+----------+--------------------+------+----+---------+---------------+-------------+\n",
      "|2019-01-01|ExpressJet Airlin...|   IAH| BTR|    False|          Texas|    Louisiana|\n",
      "|2019-01-01|ExpressJet Airlin...|   ORD| SDF|    False|       Illinois|     Kentucky|\n",
      "|2019-01-01|ExpressJet Airlin...|   LFT| IAH|    False|      Louisiana|        Texas|\n",
      "|2019-01-01|ExpressJet Airlin...|   IAH| VPS|     True|          Texas|      Florida|\n",
      "|2019-01-01|ExpressJet Airlin...|   GPT| IAH|    False|    Mississippi|        Texas|\n",
      "+----------+--------------------+------+----+---------+---------------+-------------+\n",
      "only showing top 5 rows\n",
      "\n"
     ]
    },
    {
     "name": "stderr",
     "output_type": "stream",
     "text": [
      "\r",
      "[Stage 1:========================================================>(61 + 1) / 62]\r",
      "\r",
      "                                                                                \r"
     ]
    }
   ],
   "source": [
    "# Load the flight dataset\n",
    "src = '/Users/fengzheng/Desktop/Coding/Practice/CS5540Project/data_raw/flight_raw'\n",
    "flight_df = spark.read.option('header','true').csv(src)\n",
    "\n",
    "# Create timestamp column\n",
    "from pyspark.sql.functions import *\n",
    "flight_df = flight_df.withColumn('Date',to_date(concat_ws('-', flight_df.Year, flight_df.Month,flight_df.DayofMonth)))\n",
    "\n",
    "# Select needed columns\n",
    "flight_df = flight_df.select('Date','Airline','Origin','Dest','Cancelled','OriginStateName','DestStateName')\\\n",
    "                        .sort('Date')\n",
    "\n",
    "# Print schema\n",
    "flight_df.printSchema()\n",
    "flight_df.show(5)"
   ]
  },
  {
   "cell_type": "code",
   "execution_count": 4,
   "id": "c3144c3c",
   "metadata": {},
   "outputs": [
    {
     "name": "stdout",
     "output_type": "stream",
     "text": [
      "root\n",
      " |-- Date: date (nullable = true)\n",
      " |-- state: string (nullable = true)\n",
      " |-- cases: string (nullable = true)\n",
      " |-- deaths: string (nullable = true)\n",
      "\n",
      "+----------+----------+-----+------+\n",
      "|      Date|     state|cases|deaths|\n",
      "+----------+----------+-----+------+\n",
      "|2020-01-21|Washington|    1|     0|\n",
      "|2020-01-22|Washington|    1|     0|\n",
      "|2020-01-23|Washington|    1|     0|\n",
      "|2020-01-24|Washington|    1|     0|\n",
      "|2020-01-24|  Illinois|    1|     0|\n",
      "+----------+----------+-----+------+\n",
      "only showing top 5 rows\n",
      "\n"
     ]
    }
   ],
   "source": [
    "# Load the covid dataset\n",
    "src2 = '/Users/fengzheng/Desktop/Coding/Practice/CS5540Project/data_raw/covid_raw/'\n",
    "covid_df = spark.read.option('header','true').csv(src2)\n",
    "\n",
    "# Create timestamp column\n",
    "from pyspark.sql.functions import *\n",
    "covid_df = covid_df.withColumn('Date',to_date(covid_df.date))\n",
    "\n",
    "# Select needed columns\n",
    "covid_df = covid_df.select('Date','state','cases','deaths')\\\n",
    "                        .sort('Date')\n",
    "\n",
    "# Print schema\n",
    "covid_df.printSchema()\n",
    "covid_df.show(5)"
   ]
  },
  {
   "cell_type": "code",
   "execution_count": 5,
   "id": "7bb0113c",
   "metadata": {},
   "outputs": [],
   "source": [
    "# submit the cleaned dataset\n",
    "covid_df.repartition(1).write.format(\"com.databricks.spark.csv\").option(\"header\",\"true\").save(\"/Users/fengzheng/Desktop/covid_clean\")"
   ]
  },
  {
   "cell_type": "code",
   "execution_count": 6,
   "id": "a08778c7",
   "metadata": {},
   "outputs": [
    {
     "name": "stderr",
     "output_type": "stream",
     "text": [
      "                                                                                \r"
     ]
    }
   ],
   "source": [
    "# submit the cleaned dataset\n",
    "flight_df.repartition(1).write.format(\"com.databricks.spark.csv\").option(\"header\",\"true\").save(\"/Users/fengzheng/Desktop/flight_clean\")"
   ]
  },
  {
   "cell_type": "code",
   "execution_count": null,
   "id": "e21cfbac",
   "metadata": {},
   "outputs": [],
   "source": []
  }
 ],
 "metadata": {
  "kernelspec": {
   "display_name": "myenv",
   "language": "python",
   "name": "myenv"
  },
  "language_info": {
   "codemirror_mode": {
    "name": "ipython",
    "version": 3
   },
   "file_extension": ".py",
   "mimetype": "text/x-python",
   "name": "python",
   "nbconvert_exporter": "python",
   "pygments_lexer": "ipython3",
   "version": "3.9.0"
  }
 },
 "nbformat": 4,
 "nbformat_minor": 5
}
